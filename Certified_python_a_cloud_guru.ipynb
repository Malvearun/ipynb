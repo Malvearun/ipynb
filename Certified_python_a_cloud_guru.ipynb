{
  "nbformat": 4,
  "nbformat_minor": 0,
  "metadata": {
    "colab": {
      "provenance": [],
      "toc_visible": true,
      "authorship_tag": "ABX9TyMesMQxlBVMsBex63ns3CBX",
      "include_colab_link": true
    },
    "kernelspec": {
      "name": "python3",
      "display_name": "Python 3"
    },
    "language_info": {
      "name": "python"
    }
  },
  "cells": [
    {
      "cell_type": "markdown",
      "metadata": {
        "id": "view-in-github",
        "colab_type": "text"
      },
      "source": [
        "<a href=\"https://colab.research.google.com/github/Malvearun/ipynb/blob/main/Certified_python_a_cloud_guru.ipynb\" target=\"_parent\"><img src=\"https://colab.research.google.com/assets/colab-badge.svg\" alt=\"Open In Colab\"/></a>"
      ]
    },
    {
      "cell_type": "markdown",
      "source": [
        "# Unary Operator\n"
      ],
      "metadata": {
        "id": "b8QiNtd5TGRm"
      }
    },
    {
      "cell_type": "code",
      "execution_count": null,
      "metadata": {
        "colab": {
          "base_uri": "https://localhost:8080/"
        },
        "id": "KMLafKkmRhgI",
        "outputId": "e3e943b0-fd31-47ab-d687-38f7ba099f4a"
      },
      "outputs": [
        {
          "output_type": "execute_result",
          "data": {
            "text/plain": [
              "2"
            ]
          },
          "metadata": {},
          "execution_count": 1
        }
      ],
      "source": [
        "#unary operatory\n",
        "a = 0b010\n",
        "a"
      ]
    },
    {
      "cell_type": "code",
      "source": [
        "bin (a)"
      ],
      "metadata": {
        "colab": {
          "base_uri": "https://localhost:8080/",
          "height": 36
        },
        "id": "7_0ajH5BShRR",
        "outputId": "0eca174e-ca3c-4be4-d686-2fe7c51c9143"
      },
      "execution_count": null,
      "outputs": [
        {
          "output_type": "execute_result",
          "data": {
            "text/plain": [
              "'0b10'"
            ],
            "application/vnd.google.colaboratory.intrinsic+json": {
              "type": "string"
            }
          },
          "metadata": {},
          "execution_count": 2
        }
      ]
    },
    {
      "cell_type": "code",
      "source": [
        "# ~a (compliment a)\n",
        "bin(~a)"
      ],
      "metadata": {
        "colab": {
          "base_uri": "https://localhost:8080/",
          "height": 36
        },
        "id": "WOGhhXorSlzV",
        "outputId": "1aa81e16-bb0d-40cf-d929-a69f90363600"
      },
      "execution_count": null,
      "outputs": [
        {
          "output_type": "execute_result",
          "data": {
            "text/plain": [
              "'-0b11'"
            ],
            "application/vnd.google.colaboratory.intrinsic+json": {
              "type": "string"
            }
          },
          "metadata": {},
          "execution_count": 3
        }
      ]
    },
    {
      "cell_type": "code",
      "source": [],
      "metadata": {
        "id": "O87MTWkISvNi"
      },
      "execution_count": null,
      "outputs": []
    },
    {
      "cell_type": "markdown",
      "source": [
        "# unary\n"
      ],
      "metadata": {
        "id": "Pd2dAA2NS6kK"
      }
    },
    {
      "cell_type": "code",
      "source": [
        "a=0b1001\n",
        "b= 0b1100\n",
        "bin (a | b) # or\n"
      ],
      "metadata": {
        "colab": {
          "base_uri": "https://localhost:8080/",
          "height": 36
        },
        "id": "gLgqhGwcTC3B",
        "outputId": "ca7a72cd-f3bb-4578-fcb1-fda9f9679d7e"
      },
      "execution_count": null,
      "outputs": [
        {
          "output_type": "execute_result",
          "data": {
            "text/plain": [
              "'0b1101'"
            ],
            "application/vnd.google.colaboratory.intrinsic+json": {
              "type": "string"
            }
          },
          "metadata": {},
          "execution_count": 7
        }
      ]
    },
    {
      "cell_type": "code",
      "source": [
        "bin (a ^ b)"
      ],
      "metadata": {
        "colab": {
          "base_uri": "https://localhost:8080/",
          "height": 36
        },
        "id": "H6J2iVNSTosa",
        "outputId": "96e3a912-7f0a-4efc-9e76-8211e1197b3d"
      },
      "execution_count": null,
      "outputs": [
        {
          "output_type": "execute_result",
          "data": {
            "text/plain": [
              "'0b101'"
            ],
            "application/vnd.google.colaboratory.intrinsic+json": {
              "type": "string"
            }
          },
          "metadata": {},
          "execution_count": 8
        }
      ]
    },
    {
      "cell_type": "code",
      "source": [
        "bin( a & b )"
      ],
      "metadata": {
        "colab": {
          "base_uri": "https://localhost:8080/",
          "height": 36
        },
        "id": "_Ai6DnWwTiqp",
        "outputId": "36e070fe-d224-4330-fc35-6b2655edafe3"
      },
      "execution_count": null,
      "outputs": [
        {
          "output_type": "execute_result",
          "data": {
            "text/plain": [
              "'0b1000'"
            ],
            "application/vnd.google.colaboratory.intrinsic+json": {
              "type": "string"
            }
          },
          "metadata": {},
          "execution_count": 6
        }
      ]
    },
    {
      "cell_type": "code",
      "source": [
        "1\n",
        "float(1)\n",
        "int(1.0)\n",
        "str(2.0)\n"
      ],
      "metadata": {
        "colab": {
          "base_uri": "https://localhost:8080/",
          "height": 36
        },
        "id": "if-RjNB8WXdZ",
        "outputId": "a338ff4d-d3e9-484b-80d7-93057b542b1e"
      },
      "execution_count": null,
      "outputs": [
        {
          "output_type": "execute_result",
          "data": {
            "text/plain": [
              "'2.0'"
            ],
            "application/vnd.google.colaboratory.intrinsic+json": {
              "type": "string"
            }
          },
          "metadata": {},
          "execution_count": 14
        }
      ]
    },
    {
      "cell_type": "markdown",
      "source": [
        "# Typecasting\n",
        "\n",
        "```\n",
        "# This is formatted as code\n",
        "```\n",
        "\n",
        "\n",
        "\n"
      ],
      "metadata": {
        "id": "3OhiIMqoWKfe"
      }
    },
    {
      "cell_type": "code",
      "source": [
        "# changing from float to integeter or can't be convert from integer to floating example (int('1.0')."
      ],
      "metadata": {
        "id": "qicdhqJkW7t7"
      },
      "execution_count": null,
      "outputs": []
    },
    {
      "cell_type": "code",
      "source": [
        "str(False)"
      ],
      "metadata": {
        "colab": {
          "base_uri": "https://localhost:8080/",
          "height": 36
        },
        "id": "jTvO3g6dWk0k",
        "outputId": "26a9ce9b-fbc1-4723-e22c-79a7b8237809"
      },
      "execution_count": null,
      "outputs": [
        {
          "output_type": "execute_result",
          "data": {
            "text/plain": [
              "'False'"
            ],
            "application/vnd.google.colaboratory.intrinsic+json": {
              "type": "string"
            }
          },
          "metadata": {},
          "execution_count": 11
        }
      ]
    },
    {
      "cell_type": "code",
      "source": [
        "int('1.0')"
      ],
      "metadata": {
        "colab": {
          "base_uri": "https://localhost:8080/",
          "height": 181
        },
        "id": "nOpHxDeQWrHq",
        "outputId": "37751e6f-e435-4ee4-991a-00e56be27618"
      },
      "execution_count": null,
      "outputs": [
        {
          "output_type": "error",
          "ename": "ValueError",
          "evalue": "ignored",
          "traceback": [
            "\u001b[0;31m---------------------------------------------------------------------------\u001b[0m",
            "\u001b[0;31mValueError\u001b[0m                                Traceback (most recent call last)",
            "\u001b[0;32m<ipython-input-12-19a76c531b68>\u001b[0m in \u001b[0;36m<cell line: 1>\u001b[0;34m()\u001b[0m\n\u001b[0;32m----> 1\u001b[0;31m \u001b[0mint\u001b[0m\u001b[0;34m(\u001b[0m\u001b[0;34m'1.0'\u001b[0m\u001b[0;34m)\u001b[0m\u001b[0;34m\u001b[0m\u001b[0;34m\u001b[0m\u001b[0m\n\u001b[0m",
            "\u001b[0;31mValueError\u001b[0m: invalid literal for int() with base 10: '1.0'"
          ]
        }
      ]
    },
    {
      "cell_type": "code",
      "source": [
        "1 and 0\n"
      ],
      "metadata": {
        "colab": {
          "base_uri": "https://localhost:8080/"
        },
        "id": "8wf6kr94W9Rc",
        "outputId": "91708971-0ed6-41de-c54d-eeef30b092c9"
      },
      "execution_count": null,
      "outputs": [
        {
          "output_type": "execute_result",
          "data": {
            "text/plain": [
              "0"
            ]
          },
          "metadata": {},
          "execution_count": 15
        }
      ]
    },
    {
      "cell_type": "code",
      "source": [
        "'This' and 0 and 'that'\n",
        "#without boolean value 0"
      ],
      "metadata": {
        "colab": {
          "base_uri": "https://localhost:8080/"
        },
        "id": "zu8T4SM8XO4G",
        "outputId": "b9205451-0bc0-4e03-f6e6-64c92bc02936"
      },
      "execution_count": null,
      "outputs": [
        {
          "output_type": "execute_result",
          "data": {
            "text/plain": [
              "0"
            ]
          },
          "metadata": {},
          "execution_count": 19
        }
      ]
    },
    {
      "cell_type": "code",
      "source": [
        "'This' and 'that'"
      ],
      "metadata": {
        "colab": {
          "base_uri": "https://localhost:8080/",
          "height": 36
        },
        "id": "Zq4YVValXT_p",
        "outputId": "c1d79468-0daf-44c6-86f3-0309da3dc657"
      },
      "execution_count": null,
      "outputs": [
        {
          "output_type": "execute_result",
          "data": {
            "text/plain": [
              "'that'"
            ],
            "application/vnd.google.colaboratory.intrinsic+json": {
              "type": "string"
            }
          },
          "metadata": {},
          "execution_count": 17
        }
      ]
    },
    {
      "cell_type": "code",
      "source": [
        "0.0 and 1\n",
        "# 1 is true and 0 is false"
      ],
      "metadata": {
        "colab": {
          "base_uri": "https://localhost:8080/"
        },
        "id": "sy5jiBh-XaZx",
        "outputId": "cb2d6b5a-7b45-48ee-a61c-4b3054641b77"
      },
      "execution_count": null,
      "outputs": [
        {
          "output_type": "execute_result",
          "data": {
            "text/plain": [
              "0.0"
            ]
          },
          "metadata": {},
          "execution_count": 18
        }
      ]
    },
    {
      "cell_type": "code",
      "source": [
        "1 and 0"
      ],
      "metadata": {
        "colab": {
          "base_uri": "https://localhost:8080/"
        },
        "id": "TVP4Fuk2Xzg_",
        "outputId": "a917850a-af71-4e9a-e75f-7ebf963332b5"
      },
      "execution_count": null,
      "outputs": [
        {
          "output_type": "execute_result",
          "data": {
            "text/plain": [
              "0"
            ]
          },
          "metadata": {},
          "execution_count": 20
        }
      ]
    },
    {
      "cell_type": "code",
      "source": [
        "1 or 0"
      ],
      "metadata": {
        "colab": {
          "base_uri": "https://localhost:8080/"
        },
        "id": "91dC8-vJX16n",
        "outputId": "c8b7b4f0-d873-46ff-9a79-fc9d33d6130c"
      },
      "execution_count": null,
      "outputs": [
        {
          "output_type": "execute_result",
          "data": {
            "text/plain": [
              "1"
            ]
          },
          "metadata": {},
          "execution_count": 21
        }
      ]
    },
    {
      "cell_type": "code",
      "source": [
        "0 or \"\""
      ],
      "metadata": {
        "colab": {
          "base_uri": "https://localhost:8080/",
          "height": 36
        },
        "id": "PHH6_WHRX78m",
        "outputId": "59363ee8-1365-40c3-cc88-e59cfa5d3d63"
      },
      "execution_count": null,
      "outputs": [
        {
          "output_type": "execute_result",
          "data": {
            "text/plain": [
              "''"
            ],
            "application/vnd.google.colaboratory.intrinsic+json": {
              "type": "string"
            }
          },
          "metadata": {},
          "execution_count": 22
        }
      ]
    },
    {
      "cell_type": "code",
      "source": [
        "1 or 0 or 'this'"
      ],
      "metadata": {
        "colab": {
          "base_uri": "https://localhost:8080/"
        },
        "id": "zH6AIa7UX_Jc",
        "outputId": "6de06ba3-0ac0-43ad-b386-28fc2d1a888e"
      },
      "execution_count": null,
      "outputs": [
        {
          "output_type": "execute_result",
          "data": {
            "text/plain": [
              "1"
            ]
          },
          "metadata": {},
          "execution_count": 23
        }
      ]
    },
    {
      "cell_type": "code",
      "source": [
        "not \"\""
      ],
      "metadata": {
        "colab": {
          "base_uri": "https://localhost:8080/"
        },
        "id": "wGsAARHIYFbZ",
        "outputId": "934aa89c-f33d-43c5-c66d-ff629c288895"
      },
      "execution_count": null,
      "outputs": [
        {
          "output_type": "execute_result",
          "data": {
            "text/plain": [
              "True"
            ]
          },
          "metadata": {},
          "execution_count": 24
        }
      ]
    },
    {
      "cell_type": "code",
      "source": [
        "not 1"
      ],
      "metadata": {
        "colab": {
          "base_uri": "https://localhost:8080/"
        },
        "id": "wnBu6fo9YG82",
        "outputId": "1782d6ed-70c1-4bf2-9499-7fafec1e3934"
      },
      "execution_count": null,
      "outputs": [
        {
          "output_type": "execute_result",
          "data": {
            "text/plain": [
              "False"
            ]
          },
          "metadata": {},
          "execution_count": 25
        }
      ]
    },
    {
      "cell_type": "code",
      "source": [],
      "metadata": {
        "id": "jufjUK5xZFwE"
      },
      "execution_count": null,
      "outputs": []
    },
    {
      "cell_type": "markdown",
      "source": [
        "# Input"
      ],
      "metadata": {
        "id": "wb68KbbhZICR"
      }
    },
    {
      "cell_type": "code",
      "source": [
        "input"
      ],
      "metadata": {
        "colab": {
          "base_uri": "https://localhost:8080/"
        },
        "id": "JjWevmRmZLH9",
        "outputId": "a041f1cc-5484-4c7b-d396-4564166b405a"
      },
      "execution_count": null,
      "outputs": [
        {
          "output_type": "execute_result",
          "data": {
            "text/plain": [
              "<bound method Kernel.raw_input of <google.colab._kernel.Kernel object at 0x7c5d6275a500>>"
            ]
          },
          "metadata": {},
          "execution_count": 26
        }
      ]
    },
    {
      "cell_type": "code",
      "source": [
        "input()"
      ],
      "metadata": {
        "colab": {
          "base_uri": "https://localhost:8080/",
          "height": 54
        },
        "id": "QHNmqlQjZ3Jg",
        "outputId": "29da8dde-215a-48f2-b438-1170c6e8e1a5"
      },
      "execution_count": null,
      "outputs": [
        {
          "name": "stdout",
          "output_type": "stream",
          "text": [
            "my fav color is white\n"
          ]
        },
        {
          "output_type": "execute_result",
          "data": {
            "text/plain": [
              "'my fav color is white'"
            ],
            "application/vnd.google.colaboratory.intrinsic+json": {
              "type": "string"
            }
          },
          "metadata": {},
          "execution_count": 28
        }
      ]
    },
    {
      "cell_type": "code",
      "source": [
        "input ('what is my fav color: ')"
      ],
      "metadata": {
        "colab": {
          "base_uri": "https://localhost:8080/",
          "height": 54
        },
        "id": "WzET8gtUaCgo",
        "outputId": "e94914e5-5bb3-49e8-a44e-41eb622949ba"
      },
      "execution_count": null,
      "outputs": [
        {
          "name": "stdout",
          "output_type": "stream",
          "text": [
            "what is my fav color: blue\n"
          ]
        },
        {
          "output_type": "execute_result",
          "data": {
            "text/plain": [
              "'blue'"
            ],
            "application/vnd.google.colaboratory.intrinsic+json": {
              "type": "string"
            }
          },
          "metadata": {},
          "execution_count": 29
        }
      ]
    },
    {
      "cell_type": "code",
      "source": [
        "name = input (\"what is your name? \")\n",
        "color = input(\"what is your fav color? \")\n",
        "age = int(input(\"How old are you? \"))"
      ],
      "metadata": {
        "colab": {
          "base_uri": "https://localhost:8080/"
        },
        "id": "nXT3B4v6aJOg",
        "outputId": "891419d3-32fe-456d-f707-548b65927b3d"
      },
      "execution_count": null,
      "outputs": [
        {
          "name": "stdout",
          "output_type": "stream",
          "text": [
            "what is your name? a\n",
            "what is your fav color? b\n",
            "How old are you? 12\n"
          ]
        }
      ]
    },
    {
      "cell_type": "code",
      "source": [
        "name = input (\"what is your name? \")\n",
        "color = input(\"what is your fav color? \")\n",
        "age = int(input(\"How old are you? \"))\n",
        "# NAME is AGE years old and loves the color COLOR\n",
        "print(name)\n",
        "print(\"is\" + \" \" + str(age) + \" \" + \"years old\" )\n",
        "print(\"and loves the color\" +\" \" + color + \".\")\n"
      ],
      "metadata": {
        "colab": {
          "base_uri": "https://localhost:8080/"
        },
        "id": "dpeD-Ffjbkn5",
        "outputId": "8a91d231-f07b-4fe7-dc57-41910f0e2c58"
      },
      "execution_count": null,
      "outputs": [
        {
          "output_type": "stream",
          "name": "stdout",
          "text": [
            "what is your name? a\n",
            "what is your fav color? pink\n",
            "How old are you? 10\n",
            "a\n",
            "is 10 years old\n",
            "and loves the color pink.\n"
          ]
        }
      ]
    },
    {
      "cell_type": "code",
      "source": [
        "name = input (\"what is your name? \")\n",
        "color = input(\"what is your fav color? \")\n",
        "age = int(input(\"How old are you? \"))\n",
        "# NAME is AGE years old and loves the color COLOR\n",
        "print(name, end=\" \")\n",
        "print(\"is\" + \" \" + str(age) + \" \" + \"years old\", end=\" \")\n",
        "print(\"and loves the color\" +\" \" + color + \".\", end=\" \")"
      ],
      "metadata": {
        "colab": {
          "base_uri": "https://localhost:8080/"
        },
        "id": "YGtieVKgcehy",
        "outputId": "5acb0902-bed2-445a-f5a7-5a7e948442d0"
      },
      "execution_count": null,
      "outputs": [
        {
          "output_type": "stream",
          "name": "stdout",
          "text": [
            "what is your name? a\n",
            "what is your fav color? pink\n",
            "How old are you? 10\n",
            "a is 10 years old and loves the color pink. "
          ]
        }
      ]
    },
    {
      "cell_type": "code",
      "source": [
        "name = input (\"what is your name? \")\n",
        "color = input(\"what is your fav color? \")\n",
        "age = int(input(\"How old are you? \"))\n",
        "# NAME is AGE years old and loves the color COLOR\n",
        "# print(name, end=\" \")\n",
        "# print(\"is\" + \" \" + str(age) + \" \" + \"years old\", end=\" \")\n",
        "# print(\"and loves the color\" +\" \" + color + \".\", end=\" \")\n",
        "\n",
        "print(name, 'is ', age, ' years old and loves the color', color + '.', sep=\" \" )"
      ],
      "metadata": {
        "colab": {
          "base_uri": "https://localhost:8080/"
        },
        "id": "1LE3YMfbcyao",
        "outputId": "81c2cbec-fba4-4c41-dc61-e85fa6318389"
      },
      "execution_count": null,
      "outputs": [
        {
          "output_type": "stream",
          "name": "stdout",
          "text": [
            "what is your name? a\n",
            "what is your fav color? b\n",
            "How old are you? 10\n",
            "a is  10  years old and loves the color b.\n"
          ]
        }
      ]
    },
    {
      "cell_type": "code",
      "source": [
        "name = input (\"what is your name? \")\n",
        "color = input(\"what is your fav color? \")\n",
        "age = int(input(\"How old are you? \"))\n",
        "# NAME is AGE years old and loves the color COLOR\n",
        "# print(name, end=\" \")\n",
        "# print(\"is\" + \" \" + str(age) + \" \" + \"years old\", end=\" \")\n",
        "# print(\"and loves the color\" +\" \" + color + \".\", end=\" \")\n",
        "\n",
        "print(name, 'is ', age, ' years old and loves the color', color + '.', sep=\",\" )"
      ],
      "metadata": {
        "colab": {
          "base_uri": "https://localhost:8080/"
        },
        "id": "KU2clprvdx0o",
        "outputId": "2e27ab3c-6b38-4a9c-af91-217698ce2242"
      },
      "execution_count": null,
      "outputs": [
        {
          "output_type": "stream",
          "name": "stdout",
          "text": [
            "what is your name? a\n",
            "what is your fav color? b\n",
            "How old are you? 1\n",
            "a,is ,1, years old and loves the color,b.\n"
          ]
        }
      ]
    },
    {
      "cell_type": "markdown",
      "source": [
        "# immutability"
      ],
      "metadata": {
        "id": "uVs8FgzdeM_C"
      }
    },
    {
      "cell_type": "code",
      "source": [
        "my_str = 'testing'\n",
        "my_str.capitalize()"
      ],
      "metadata": {
        "colab": {
          "base_uri": "https://localhost:8080/",
          "height": 36
        },
        "id": "lMMeGYBbeP7K",
        "outputId": "faf0b3e0-51ef-4a85-ea1d-9349e03aa08e"
      },
      "execution_count": null,
      "outputs": [
        {
          "output_type": "execute_result",
          "data": {
            "text/plain": [
              "'Testing'"
            ],
            "application/vnd.google.colaboratory.intrinsic+json": {
              "type": "string"
            }
          },
          "metadata": {},
          "execution_count": 45
        }
      ]
    },
    {
      "cell_type": "markdown",
      "source": [
        "# Nested list"
      ],
      "metadata": {
        "id": "tj6K7EzjgmTz"
      }
    },
    {
      "cell_type": "code",
      "source": [
        "# matrix and cubes : nested lists"
      ],
      "metadata": {
        "id": "rMbAgG8tgoz7"
      },
      "execution_count": null,
      "outputs": []
    },
    {
      "cell_type": "code",
      "source": [
        "my_matrix = [[1,2,3],\n",
        "            [4,5,6]]\n",
        "print(my_matrix)"
      ],
      "metadata": {
        "colab": {
          "base_uri": "https://localhost:8080/"
        },
        "id": "DQ3gsnKyhC1Q",
        "outputId": "af03ce6d-a872-4afd-e909-1c4f4b59e1d6"
      },
      "execution_count": null,
      "outputs": [
        {
          "output_type": "stream",
          "name": "stdout",
          "text": [
            "[[1, 2, 3], [4, 5, 6]]\n"
          ]
        }
      ]
    },
    {
      "cell_type": "code",
      "source": [
        "row_count = len(my_matrix)\n",
        "row_count"
      ],
      "metadata": {
        "colab": {
          "base_uri": "https://localhost:8080/"
        },
        "id": "xDsj4YkuhWjr",
        "outputId": "d6a81cef-da98-44a6-8155-a9855eefc335"
      },
      "execution_count": null,
      "outputs": [
        {
          "output_type": "execute_result",
          "data": {
            "text/plain": [
              "2"
            ]
          },
          "metadata": {},
          "execution_count": 49
        }
      ]
    },
    {
      "cell_type": "code",
      "source": [
        "column_count1 = len(my_matrix[0])\n",
        "column_count1"
      ],
      "metadata": {
        "colab": {
          "base_uri": "https://localhost:8080/"
        },
        "id": "9U0ya6SdhjLj",
        "outputId": "39d70f82-a0ef-4a0e-8b98-17ba9c075c31"
      },
      "execution_count": null,
      "outputs": [
        {
          "output_type": "execute_result",
          "data": {
            "text/plain": [
              "3"
            ]
          },
          "metadata": {},
          "execution_count": 57
        }
      ]
    },
    {
      "cell_type": "code",
      "source": [
        "#square 1 2\n",
        "#       3 4\n",
        "\n",
        "# cube 1 2 3\n",
        "#      4 5 6\n",
        "#      7 8 9\n",
        "\n"
      ],
      "metadata": {
        "id": "2w25hChXh9_A"
      },
      "execution_count": null,
      "outputs": []
    },
    {
      "cell_type": "markdown",
      "source": [
        "# Tuple ()"
      ],
      "metadata": {
        "id": "UP07cJMRiTq6"
      }
    },
    {
      "cell_type": "code",
      "source": [
        "point = (2.0, 3.0)\n",
        "point[0] = 1"
      ],
      "metadata": {
        "colab": {
          "base_uri": "https://localhost:8080/",
          "height": 199
        },
        "id": "Hv8RwHayiXug",
        "outputId": "b7373c97-d77f-4423-c80f-566e487f3445"
      },
      "execution_count": null,
      "outputs": [
        {
          "output_type": "error",
          "ename": "TypeError",
          "evalue": "ignored",
          "traceback": [
            "\u001b[0;31m---------------------------------------------------------------------------\u001b[0m",
            "\u001b[0;31mTypeError\u001b[0m                                 Traceback (most recent call last)",
            "\u001b[0;32m<ipython-input-60-ea39dd03b61f>\u001b[0m in \u001b[0;36m<cell line: 2>\u001b[0;34m()\u001b[0m\n\u001b[1;32m      1\u001b[0m \u001b[0mpoint\u001b[0m \u001b[0;34m=\u001b[0m \u001b[0;34m(\u001b[0m\u001b[0;36m2.0\u001b[0m\u001b[0;34m,\u001b[0m \u001b[0;36m3.0\u001b[0m\u001b[0;34m)\u001b[0m\u001b[0;34m\u001b[0m\u001b[0;34m\u001b[0m\u001b[0m\n\u001b[0;32m----> 2\u001b[0;31m \u001b[0mpoint\u001b[0m\u001b[0;34m[\u001b[0m\u001b[0;36m0\u001b[0m\u001b[0;34m]\u001b[0m \u001b[0;34m=\u001b[0m \u001b[0;36m1\u001b[0m\u001b[0;34m\u001b[0m\u001b[0;34m\u001b[0m\u001b[0m\n\u001b[0m",
            "\u001b[0;31mTypeError\u001b[0m: 'tuple' object does not support item assignment"
          ]
        }
      ]
    },
    {
      "cell_type": "code",
      "source": [
        "point_3d = point + (4.0,)\n",
        "point_3d"
      ],
      "metadata": {
        "colab": {
          "base_uri": "https://localhost:8080/"
        },
        "id": "ZfR-X-NsihFh",
        "outputId": "6f51a0c0-11a5-445a-b9bc-520ed4adbe18"
      },
      "execution_count": null,
      "outputs": [
        {
          "output_type": "execute_result",
          "data": {
            "text/plain": [
              "(2.0, 3.0, 4.0)"
            ]
          },
          "metadata": {},
          "execution_count": 61
        }
      ]
    },
    {
      "cell_type": "code",
      "source": [
        "x, y, z = point_3d\n",
        "print(x)\n",
        "print(y)\n",
        "print(z)"
      ],
      "metadata": {
        "colab": {
          "base_uri": "https://localhost:8080/"
        },
        "id": "889X8Vqvi7nd",
        "outputId": "cb137b20-c067-4c84-d406-66f30cb2d37f"
      },
      "execution_count": null,
      "outputs": [
        {
          "output_type": "stream",
          "name": "stdout",
          "text": [
            "2.0\n",
            "3.0\n",
            "4.0\n"
          ]
        }
      ]
    },
    {
      "cell_type": "code",
      "source": [
        "# format string\n",
        "print(\" my name is: %s %s \" %(\"A\", \"B\") )"
      ],
      "metadata": {
        "colab": {
          "base_uri": "https://localhost:8080/"
        },
        "id": "FOXKyDjojR-n",
        "outputId": "73c9ae2b-18c1-4034-e01b-f207d6dde280"
      },
      "execution_count": null,
      "outputs": [
        {
          "output_type": "stream",
          "name": "stdout",
          "text": [
            " my name is: A B \n"
          ]
        }
      ]
    }
  ]
}